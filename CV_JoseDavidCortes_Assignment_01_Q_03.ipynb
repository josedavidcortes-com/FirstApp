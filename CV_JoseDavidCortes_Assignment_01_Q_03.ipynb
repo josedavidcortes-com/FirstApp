{
  "nbformat": 4,
  "nbformat_minor": 0,
  "metadata": {
    "colab": {
      "private_outputs": true,
      "provenance": [],
      "mount_file_id": "1xRBBBc9BEJ6kISOMpXY-uXzX9lASks4n",
      "authorship_tag": "ABX9TyO+GZNlBjy43aWNU/Xq3OAw",
      "include_colab_link": true
    },
    "kernelspec": {
      "name": "python3",
      "display_name": "Python 3"
    },
    "language_info": {
      "name": "python"
    }
  },
  "cells": [
    {
      "cell_type": "markdown",
      "metadata": {
        "id": "view-in-github",
        "colab_type": "text"
      },
      "source": [
        "<a href=\"https://colab.research.google.com/github/josedavidcortes-com/FirstApp/blob/master/CV_JoseDavidCortes_Assignment_01_Q_03.ipynb\" target=\"_parent\"><img src=\"https://colab.research.google.com/assets/colab-badge.svg\" alt=\"Open In Colab\"/></a>"
      ]
    },
    {
      "cell_type": "markdown",
      "source": [
        "# Thresholding and Adaptative Thresholding"
      ],
      "metadata": {
        "id": "Nyb1uGSnRaOF"
      }
    },
    {
      "cell_type": "markdown",
      "source": [
        "Lets import the required libraries and read the pictures. \n",
        "It is mandatory to read the image in grayscale format to perform thresholding."
      ],
      "metadata": {
        "id": "pP88qlq-RTOU"
      }
    },
    {
      "cell_type": "code",
      "execution_count": null,
      "metadata": {
        "id": "fa9djhghC913"
      },
      "outputs": [],
      "source": [
        "import cv2 \n",
        "from matplotlib import pyplot as plt\n",
        "imPath = '/content/drive/MyDrive/ColabNotebooks/image/rocket_grey.jpeg'\n",
        "image = cv2.imread(imPath,0)"
      ]
    },
    {
      "cell_type": "markdown",
      "source": [],
      "metadata": {
        "id": "L_qoyD4NSvKV"
      }
    },
    {
      "cell_type": "code",
      "source": [
        "_,th0 = cv2.threshold(image,150,255,cv2.THRESH_BINARY) \n",
        "th1 = cv2.adaptiveThreshold(image,255,cv2.ADAPTIVE_THRESH_MEAN_C,cv2.THRESH_BINARY,11,2) \n",
        "th2 = cv2.adaptiveThreshold(image,255,cv2.ADAPTIVE_THRESH_GAUSSIAN_C,cv2.THRESH_BINARY,15,5) "
      ],
      "metadata": {
        "id": "JXw0-LDJSuy4"
      },
      "execution_count": null,
      "outputs": []
    },
    {
      "cell_type": "markdown",
      "source": [],
      "metadata": {
        "id": "C9bSKEV5S0DF"
      }
    },
    {
      "cell_type": "code",
      "source": [
        "titles = ['Original Image','Simple Binary Thresholding','Adaptive Mean Thresholding','Adaptive Gaussian Thresholding']\n",
        "images = [image,th0, th1, th2]\n",
        "plt.figure(figsize=(13,8))\n",
        "for i in range(4):\n",
        "    plt.subplot(1,4,i+1)\n",
        "    plt.imshow(images[i],'gray')\n",
        "    plt.title(titles[i])\n",
        "    plt.xticks([])\n",
        "    plt.yticks([])\n",
        "plt.tight_layout()\n",
        "plt.show()"
      ],
      "metadata": {
        "id": "Tqcg6VgXS0Sd"
      },
      "execution_count": null,
      "outputs": []
    }
  ]
}